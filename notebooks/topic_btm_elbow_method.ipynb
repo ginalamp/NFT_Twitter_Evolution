{
 "cells": [
  {
   "cell_type": "markdown",
   "id": "a284a53f",
   "metadata": {},
   "source": [
    "# Topic modelling BTM elbow method\n",
    "\n",
    "Get optimal number of topics based on BTM logLik value output.\n",
    "\n",
    "[Knee library (elbow method) documentation](https://kneed.readthedocs.io/en/stable/parameters.html#curve)"
   ]
  },
  {
   "cell_type": "code",
   "execution_count": 1,
   "id": "7b310aa2",
   "metadata": {},
   "outputs": [],
   "source": [
    "import matplotlib.pyplot as plt\n",
    "from kneed import KneeLocator # elbow method\n",
    "import pandas as pd\n",
    "import numpy as np\n",
    "from scipy.interpolate import interp1d # normalise curve"
   ]
  },
  {
   "cell_type": "code",
   "execution_count": 2,
   "id": "89e8c49b",
   "metadata": {},
   "outputs": [
    {
     "data": {
      "text/html": [
       "<div>\n",
       "<style scoped>\n",
       "    .dataframe tbody tr th:only-of-type {\n",
       "        vertical-align: middle;\n",
       "    }\n",
       "\n",
       "    .dataframe tbody tr th {\n",
       "        vertical-align: top;\n",
       "    }\n",
       "\n",
       "    .dataframe thead th {\n",
       "        text-align: right;\n",
       "    }\n",
       "</style>\n",
       "<table border=\"1\" class=\"dataframe\">\n",
       "  <thead>\n",
       "    <tr style=\"text-align: right;\">\n",
       "      <th></th>\n",
       "      <th>Log</th>\n",
       "      <th>Topics</th>\n",
       "      <th>LogLik</th>\n",
       "    </tr>\n",
       "  </thead>\n",
       "  <tbody>\n",
       "    <tr>\n",
       "      <th>0</th>\n",
       "      <td>8.276746</td>\n",
       "      <td>1</td>\n",
       "      <td>-189123517</td>\n",
       "    </tr>\n",
       "    <tr>\n",
       "      <th>1</th>\n",
       "      <td>8.258063</td>\n",
       "      <td>2</td>\n",
       "      <td>-181160177</td>\n",
       "    </tr>\n",
       "    <tr>\n",
       "      <th>2</th>\n",
       "      <td>8.244208</td>\n",
       "      <td>3</td>\n",
       "      <td>-175471871</td>\n",
       "    </tr>\n",
       "    <tr>\n",
       "      <th>3</th>\n",
       "      <td>8.238415</td>\n",
       "      <td>4</td>\n",
       "      <td>-173147202</td>\n",
       "    </tr>\n",
       "    <tr>\n",
       "      <th>4</th>\n",
       "      <td>8.231924</td>\n",
       "      <td>5</td>\n",
       "      <td>-170578552</td>\n",
       "    </tr>\n",
       "    <tr>\n",
       "      <th>...</th>\n",
       "      <td>...</td>\n",
       "      <td>...</td>\n",
       "      <td>...</td>\n",
       "    </tr>\n",
       "    <tr>\n",
       "      <th>58</th>\n",
       "      <td>8.204598</td>\n",
       "      <td>80</td>\n",
       "      <td>-160176335</td>\n",
       "    </tr>\n",
       "    <tr>\n",
       "      <th>59</th>\n",
       "      <td>8.203796</td>\n",
       "      <td>85</td>\n",
       "      <td>-159880554</td>\n",
       "    </tr>\n",
       "    <tr>\n",
       "      <th>60</th>\n",
       "      <td>8.203124</td>\n",
       "      <td>90</td>\n",
       "      <td>-159633508</td>\n",
       "    </tr>\n",
       "    <tr>\n",
       "      <th>61</th>\n",
       "      <td>8.203796</td>\n",
       "      <td>95</td>\n",
       "      <td>-159880554</td>\n",
       "    </tr>\n",
       "    <tr>\n",
       "      <th>62</th>\n",
       "      <td>8.202866</td>\n",
       "      <td>100</td>\n",
       "      <td>-159538560</td>\n",
       "    </tr>\n",
       "  </tbody>\n",
       "</table>\n",
       "<p>63 rows × 3 columns</p>\n",
       "</div>"
      ],
      "text/plain": [
       "         Log  Topics     LogLik\n",
       "0   8.276746       1 -189123517\n",
       "1   8.258063       2 -181160177\n",
       "2   8.244208       3 -175471871\n",
       "3   8.238415       4 -173147202\n",
       "4   8.231924       5 -170578552\n",
       "..       ...     ...        ...\n",
       "58  8.204598      80 -160176335\n",
       "59  8.203796      85 -159880554\n",
       "60  8.203124      90 -159633508\n",
       "61  8.203796      95 -159880554\n",
       "62  8.202866     100 -159538560\n",
       "\n",
       "[63 rows x 3 columns]"
      ]
     },
     "execution_count": 2,
     "metadata": {},
     "output_type": "execute_result"
    }
   ],
   "source": [
    "df = pd.read_csv('../datain/topic_modelling/ElbowMethodData.csv')\n",
    "df"
   ]
  },
  {
   "cell_type": "code",
   "execution_count": 3,
   "id": "3788d2b5",
   "metadata": {},
   "outputs": [
    {
     "data": {
      "text/plain": [
       "array([[  1],\n",
       "       [  2],\n",
       "       [  3],\n",
       "       [  4],\n",
       "       [  5],\n",
       "       [  6],\n",
       "       [  7],\n",
       "       [  8],\n",
       "       [  9],\n",
       "       [ 10],\n",
       "       [ 11],\n",
       "       [ 12],\n",
       "       [ 13],\n",
       "       [ 14],\n",
       "       [ 15],\n",
       "       [ 16],\n",
       "       [ 17],\n",
       "       [ 18],\n",
       "       [ 19],\n",
       "       [ 20],\n",
       "       [ 21],\n",
       "       [ 22],\n",
       "       [ 23],\n",
       "       [ 24],\n",
       "       [ 25],\n",
       "       [ 26],\n",
       "       [ 27],\n",
       "       [ 28],\n",
       "       [ 29],\n",
       "       [ 30],\n",
       "       [ 31],\n",
       "       [ 32],\n",
       "       [ 33],\n",
       "       [ 34],\n",
       "       [ 35],\n",
       "       [ 36],\n",
       "       [ 37],\n",
       "       [ 38],\n",
       "       [ 39],\n",
       "       [ 40],\n",
       "       [ 41],\n",
       "       [ 42],\n",
       "       [ 43],\n",
       "       [ 44],\n",
       "       [ 45],\n",
       "       [ 46],\n",
       "       [ 47],\n",
       "       [ 48],\n",
       "       [ 49],\n",
       "       [ 50],\n",
       "       [ 51],\n",
       "       [ 52],\n",
       "       [ 53],\n",
       "       [ 55],\n",
       "       [ 60],\n",
       "       [ 65],\n",
       "       [ 70],\n",
       "       [ 75],\n",
       "       [ 80],\n",
       "       [ 85],\n",
       "       [ 90],\n",
       "       [ 95],\n",
       "       [100]])"
      ]
     },
     "execution_count": 3,
     "metadata": {},
     "output_type": "execute_result"
    }
   ],
   "source": [
    "topics = df[['Topics']].to_numpy()\n",
    "topics"
   ]
  },
  {
   "cell_type": "code",
   "execution_count": 4,
   "id": "bd82a35d",
   "metadata": {},
   "outputs": [
    {
     "data": {
      "text/plain": [
       "array([[-189123517],\n",
       "       [-181160177],\n",
       "       [-175471871],\n",
       "       [-173147202],\n",
       "       [-170578552],\n",
       "       [-169370878],\n",
       "       [-168354008],\n",
       "       [-167519089],\n",
       "       [-167735262],\n",
       "       [-166471854],\n",
       "       [-166022211],\n",
       "       [-165496610],\n",
       "       [-165269809],\n",
       "       [-164697669],\n",
       "       [-164346746],\n",
       "       [-164214998],\n",
       "       [-164113393],\n",
       "       [-163734366],\n",
       "       [-163534564],\n",
       "       [-163485742],\n",
       "       [-163529923],\n",
       "       [-163036367],\n",
       "       [-163381837],\n",
       "       [-162660606],\n",
       "       [-162612370],\n",
       "       [-162772607],\n",
       "       [-162204660],\n",
       "       [-162405769],\n",
       "       [-162336646],\n",
       "       [-162053387],\n",
       "       [-161924229],\n",
       "       [-161992518],\n",
       "       [-161762292],\n",
       "       [-161802569],\n",
       "       [-161567580],\n",
       "       [-161404961],\n",
       "       [-161533272],\n",
       "       [-161367473],\n",
       "       [-161300059],\n",
       "       [-161241164],\n",
       "       [-161413198],\n",
       "       [-161025984],\n",
       "       [-161134165],\n",
       "       [-161086509],\n",
       "       [-160921866],\n",
       "       [-160858573],\n",
       "       [-161027380],\n",
       "       [-161049514],\n",
       "       [-160900740],\n",
       "       [-160826809],\n",
       "       [-160830971],\n",
       "       [-160654281],\n",
       "       [-160635914],\n",
       "       [-160536860],\n",
       "       [-160355864],\n",
       "       [-160258692],\n",
       "       [-160039599],\n",
       "       [-160171501],\n",
       "       [-160176335],\n",
       "       [-159880554],\n",
       "       [-159633508],\n",
       "       [-159880554],\n",
       "       [-159538560]])"
      ]
     },
     "execution_count": 4,
     "metadata": {},
     "output_type": "execute_result"
    }
   ],
   "source": [
    "loglikvals = df[['LogLik']].to_numpy()\n",
    "loglikvals"
   ]
  },
  {
   "cell_type": "code",
   "execution_count": 5,
   "id": "b5a3268a",
   "metadata": {},
   "outputs": [
    {
     "data": {
      "text/plain": [
       "array([  1,   2,   3,   4,   5,   6,   7,   8,   9,  10,  11,  12,  13,\n",
       "        14,  15,  16,  17,  18,  19,  20,  21,  22,  23,  24,  25,  26,\n",
       "        27,  28,  29,  30,  31,  32,  33,  34,  35,  36,  37,  38,  39,\n",
       "        40,  41,  42,  43,  44,  45,  46,  47,  48,  49,  50,  51,  52,\n",
       "        53,  55,  60,  65,  70,  75,  80,  85,  90,  95, 100])"
      ]
     },
     "execution_count": 5,
     "metadata": {},
     "output_type": "execute_result"
    }
   ],
   "source": [
    "x = np.concatenate(topics).ravel()\n",
    "x"
   ]
  },
  {
   "cell_type": "code",
   "execution_count": 6,
   "id": "f5f78e86",
   "metadata": {},
   "outputs": [
    {
     "data": {
      "text/plain": [
       "array([-189123517, -181160177, -175471871, -173147202, -170578552,\n",
       "       -169370878, -168354008, -167519089, -167735262, -166471854,\n",
       "       -166022211, -165496610, -165269809, -164697669, -164346746,\n",
       "       -164214998, -164113393, -163734366, -163534564, -163485742,\n",
       "       -163529923, -163036367, -163381837, -162660606, -162612370,\n",
       "       -162772607, -162204660, -162405769, -162336646, -162053387,\n",
       "       -161924229, -161992518, -161762292, -161802569, -161567580,\n",
       "       -161404961, -161533272, -161367473, -161300059, -161241164,\n",
       "       -161413198, -161025984, -161134165, -161086509, -160921866,\n",
       "       -160858573, -161027380, -161049514, -160900740, -160826809,\n",
       "       -160830971, -160654281, -160635914, -160536860, -160355864,\n",
       "       -160258692, -160039599, -160171501, -160176335, -159880554,\n",
       "       -159633508, -159880554, -159538560])"
      ]
     },
     "execution_count": 6,
     "metadata": {},
     "output_type": "execute_result"
    }
   ],
   "source": [
    "y = np.concatenate(loglikvals).ravel()\n",
    "y"
   ]
  },
  {
   "cell_type": "code",
   "execution_count": 12,
   "id": "5c7c0365",
   "metadata": {},
   "outputs": [
    {
     "data": {
      "image/png": "[encoded data removed]",
      "text/plain": [
       "<Figure size 432x432 with 1 Axes>"
      ]
     },
     "metadata": {
      "needs_background": "light"
     },
     "output_type": "display_data"
    }
   ],
   "source": [
    "# kl = KneeLocator(x, y, curve=\"concave\", direction=\"increasing\")\n",
    "# kl.plot_knee_normalized()"
   ]
  },
  {
   "cell_type": "code",
   "execution_count": 14,
   "id": "33fb2019",
   "metadata": {},
   "outputs": [
    {
     "data": {
      "image/png": "[encoded data removed]",
      "text/plain": [
       "<Figure size 432x432 with 1 Axes>"
      ]
     },
     "metadata": {
      "needs_background": "light"
     },
     "output_type": "display_data"
    }
   ],
   "source": [
    "kl = KneeLocator(x, y, curve=\"concave\", direction=\"increasing\", interp_method=\"polynomial\")\n",
    "kl.plot_knee_normalized()"
   ]
  },
  {
   "cell_type": "code",
   "execution_count": 15,
   "id": "dff0b33b",
   "metadata": {},
   "outputs": [
    {
     "data": {
      "text/plain": [
       "13"
      ]
     },
     "execution_count": 15,
     "metadata": {},
     "output_type": "execute_result"
    }
   ],
   "source": [
    "kl.elbow"
   ]
  },
  {
   "cell_type": "code",
   "execution_count": 11,
   "id": "d7a37672",
   "metadata": {},
   "outputs": [
    {
     "data": {
      "text/plain": [
       "7"
      ]
     },
     "execution_count": 11,
     "metadata": {},
     "output_type": "execute_result"
    }
   ],
   "source": [
    "kl.polynomial_degree"
   ]
  }
 ],
 "metadata": {
  "kernelspec": {
   "display_name": "Python 3 (ipykernel)",
   "language": "python",
   "name": "python3"
  },
  "language_info": {
   "codemirror_mode": {
    "name": "ipython",
    "version": 3
   },
   "file_extension": ".py",
   "mimetype": "text/x-python",
   "name": "python",
   "nbconvert_exporter": "python",
   "pygments_lexer": "ipython3",
   "version": "3.9.7"
  }
 },
 "nbformat": 4,
 "nbformat_minor": 5
}
